{
 "cells": [
  {
   "cell_type": "code",
   "execution_count": 17,
   "id": "a341f9ca",
   "metadata": {},
   "outputs": [
    {
     "name": "stdout",
     "output_type": "stream",
     "text": [
      "4\n",
      "{\n",
      "index = 1\n",
      "[\n",
      "index = 2\n",
      "}\n",
      "top = [\n",
      "paren = }\n",
      "index = 3\n",
      "False\n"
     ]
    }
   ],
   "source": [
    "class Stack:\n",
    "    def __init__(self):\n",
    "        self.items = []\n",
    "        \n",
    "    def is_empty(self):\n",
    "        return self.items == []\n",
    "    \n",
    "    def push(self, item):\n",
    "        self.items.append(item)\n",
    "        \n",
    "    def pop(self):\n",
    "        return self.items.pop()\n",
    "    \n",
    "    def peek(self):\n",
    "        if not self.is_empty():\n",
    "            return self.items[-1]\n",
    "    \n",
    "    def get_stack(self):\n",
    "        return self.items\n",
    "\n",
    "    \n",
    "def is_match(p1, p2):\n",
    "    if p1 == \"(\" and p2 == \")\":\n",
    "        return True\n",
    "    elif p1 == \"{\" and p2 == \"}\":\n",
    "        return True\n",
    "    elif p1 == \"[\" and p2 == \"]\":\n",
    "        return True\n",
    "    else:\n",
    "        return False\n",
    "\n",
    "def balance_check(s):\n",
    "    stack = Stack()\n",
    "    is_balanced = True\n",
    "    index = 0\n",
    "    print(len(s))\n",
    "    while index < len(s) and is_balanced:\n",
    "        paren = s[index]\n",
    "        print(paren)\n",
    "        if paren in \"([{\":\n",
    "            stack.push(paren)\n",
    "        else:\n",
    "            if stack.is_empty():\n",
    "                is_balanced = False\n",
    "            else:\n",
    "                top = stack.pop()\n",
    "                print(\"top = \" + top)\n",
    "                print(\"paren = \" + paren)\n",
    "                if not is_match(top, paren):\n",
    "                    is_balanced = False\n",
    "        index += 1\n",
    "        print(\"index = \" + str(index))\n",
    "\n",
    "    if stack.is_empty() and is_balanced:\n",
    "        return True\n",
    "    else:\n",
    "        return False\n",
    "\n",
    "print(balance_check(\"{[}]\"))\n",
    "# seems to always return True "
   ]
  },
  {
   "cell_type": "code",
   "execution_count": null,
   "id": "a22997d6",
   "metadata": {},
   "outputs": [],
   "source": []
  },
  {
   "cell_type": "code",
   "execution_count": null,
   "id": "ed0dfded",
   "metadata": {},
   "outputs": [],
   "source": []
  }
 ],
 "metadata": {
  "kernelspec": {
   "display_name": "Python 3 (ipykernel)",
   "language": "python",
   "name": "python3"
  },
  "language_info": {
   "codemirror_mode": {
    "name": "ipython",
    "version": 3
   },
   "file_extension": ".py",
   "mimetype": "text/x-python",
   "name": "python",
   "nbconvert_exporter": "python",
   "pygments_lexer": "ipython3",
   "version": "3.8.10"
  }
 },
 "nbformat": 4,
 "nbformat_minor": 5
}
