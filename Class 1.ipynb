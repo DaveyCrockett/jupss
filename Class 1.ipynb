{
 "cells": [
  {
   "cell_type": "code",
   "execution_count": 1,
   "id": "29995c6c",
   "metadata": {},
   "outputs": [
    {
     "ename": "SyntaxError",
     "evalue": "invalid syntax (1950312875.py, line 1)",
     "output_type": "error",
     "traceback": [
      "\u001b[0;36m  Input \u001b[0;32mIn [1]\u001b[0;36m\u001b[0m\n\u001b[0;31m    for letter in \"hello, world\"\u001b[0m\n\u001b[0m                                ^\u001b[0m\n\u001b[0;31mSyntaxError\u001b[0m\u001b[0;31m:\u001b[0m invalid syntax\n"
     ]
    }
   ],
   "source": [
    "for letter in \"hello, world\"\n",
    "    print(letter)"
   ]
  },
  {
   "cell_type": "code",
   "execution_count": 2,
   "id": "5270f73b",
   "metadata": {
    "scrolled": true
   },
   "outputs": [
    {
     "name": "stdout",
     "output_type": "stream",
     "text": [
      "h\n",
      "e\n",
      "l\n",
      "l\n",
      "o\n",
      "w\n",
      ",\n",
      " \n",
      "w\n",
      "o\n",
      "r\n",
      "l\n",
      "d\n"
     ]
    }
   ],
   "source": [
    "for letter in \"hellow, world\":\n",
    "    print(letter)"
   ]
  },
  {
   "cell_type": "code",
   "execution_count": null,
   "id": "eb8e49c4",
   "metadata": {},
   "outputs": [],
   "source": [
    "# string_a = input(\"Enter word A: \")\n",
    "# str_a = string_a.upper\n",
    "# my_list_a = []\n",
    "# my_list_a.append(str_a)\n",
    "# string_b = input(\"Enter word B: \")\n",
    "# str_b = string_b.upper\n",
    "# my_list_b = []\n",
    "# my_list_b.append(str_b)\n",
    "# def letter_list(my_list_a, my_list_b):\n",
    "#     for i in my_list_a:\n",
    "#         for j in my_list_b:\n",
    "#             if i == j:\n",
    "#                 order = range_char(my_list_a[i], my_list_b[j])\n",
    "#                 print(order)\n",
    "\n",
    "# def range_char(start, stop):\n",
    "#     return (chr(n) for n in range(ord(start), ord(stop) + 1))\n",
    "\n",
    "# letter_list(my_list_a, my_list_b)\n",
    "\n"
   ]
  },
  {
   "cell_type": "code",
   "execution_count": null,
   "id": "4fa2b0b4",
   "metadata": {},
   "outputs": [],
   "source": [
    "# take a look at a screenShot\n",
    "\n",
    "# def sort_characters(list_of_char)\n",
    "#     swap_detected = True\n",
    "#     while swapp_detected == True:\n",
    "#         for index in range(len(list_of_char)):\n",
    "#                 idx = index\n",
    "#                 if list_of_char[idx] > list_of_char[idx] + 1:\n",
    "                    "
   ]
  },
  {
   "cell_type": "code",
   "execution_count": 3,
   "id": "f92c9cf4",
   "metadata": {},
   "outputs": [
    {
     "name": "stdout",
     "output_type": "stream",
     "text": [
      "Enter word/phrase A: I am lord voldemort\n",
      "Enter word/phrase B: Tom Marvolo Riddle\n"
     ]
    },
    {
     "data": {
      "text/plain": [
       "True"
      ]
     },
     "execution_count": 3,
     "metadata": {},
     "output_type": "execute_result"
    }
   ],
   "source": [
    "def is_anagram(string_a, string_b):\n",
    "    string_a = string_a.replace(\" \", \"\").upper()\n",
    "    string_b = string_b.replace(\" \", \"\").upper()\n",
    "    if len(string_a) != len(string_b):\n",
    "        return False\n",
    "    char_times_a = dict()\n",
    "    char_times_b = dict()\n",
    "    for i in range(len(string_a)):\n",
    "        if string_a[i] not in char_times_a.keys():\n",
    "            char_times_a[string_a[i]] = 1\n",
    "        else:\n",
    "            char_times_a[string_a[i]] += 1\n",
    "        if string_b[i] not in char_times_b.keys():\n",
    "            char_times_b[string_b[i]] = 1\n",
    "        else:\n",
    "            char_times_b[string_b[i]] += 1\n",
    "    return char_times_a == char_times_b\n",
    "\n",
    "string_a = input(\"Enter word/phrase A: \")\n",
    "string_b = input(\"Enter word/phrase B: \")\n",
    "\n",
    "is_anagram(string_a, string_b)\n",
    "           \n",
    "# Your solution must ignore casing (upper, lower)\n",
    "# and spaces such that \"I am lord voldemort\" is found to be an anagram of \"Tom Marvolo Riddle\".\n",
    "# string.replace(\" \", \"\")"
   ]
  },
  {
   "cell_type": "code",
   "execution_count": null,
   "id": "2b351a2d",
   "metadata": {},
   "outputs": [],
   "source": []
  }
 ],
 "metadata": {
  "kernelspec": {
   "display_name": "Python 3 (ipykernel)",
   "language": "python",
   "name": "python3"
  },
  "language_info": {
   "codemirror_mode": {
    "name": "ipython",
    "version": 3
   },
   "file_extension": ".py",
   "mimetype": "text/x-python",
   "name": "python",
   "nbconvert_exporter": "python",
   "pygments_lexer": "ipython3",
   "version": "3.8.10"
  }
 },
 "nbformat": 4,
 "nbformat_minor": 5
}
