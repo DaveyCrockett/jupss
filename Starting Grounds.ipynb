{
 "cells": [
  {
   "cell_type": "code",
   "execution_count": 2,
   "id": "a341f9ca",
   "metadata": {},
   "outputs": [
    {
     "name": "stdout",
     "output_type": "stream",
     "text": [
      "4\n",
      "{\n",
      "index = 1\n",
      "[\n",
      "index = 2\n",
      "}\n",
      "top = [\n",
      "paren = }\n",
      "index = 3\n",
      "False\n",
      "6\n",
      "{\n",
      "index = 1\n",
      "(\n",
      "index = 2\n",
      "[\n",
      "index = 3\n",
      "]\n",
      "top = [\n",
      "paren = ]\n",
      "index = 4\n",
      ")\n",
      "top = (\n",
      "paren = )\n",
      "index = 5\n",
      "}\n",
      "top = {\n",
      "paren = }\n",
      "index = 6\n",
      "True\n"
     ]
    }
   ],
   "source": [
    "class Stack:\n",
    "    def __init__(self):\n",
    "        self.items = []\n",
    "        \n",
    "    def is_empty(self):\n",
    "        return self.items == []\n",
    "    \n",
    "    def push(self, item):\n",
    "        self.items.append(item)\n",
    "        \n",
    "    def pop(self):\n",
    "        return self.items.pop()\n",
    "    \n",
    "    def peek(self):\n",
    "        if not self.is_empty():\n",
    "            return self.items[-1]\n",
    "    \n",
    "    def get_stack(self):\n",
    "        return self.items\n",
    "\n",
    "    \n",
    "def is_match(p1, p2):\n",
    "    if p1 == \"(\" and p2 == \")\":\n",
    "        return True\n",
    "    elif p1 == \"{\" and p2 == \"}\":\n",
    "        return True\n",
    "    elif p1 == \"[\" and p2 == \"]\":\n",
    "        return True\n",
    "    else:\n",
    "        return False\n",
    "\n",
    "def balance_check(s):\n",
    "    stack = Stack()\n",
    "    is_balanced = True\n",
    "    index = 0\n",
    "    print(len(s))\n",
    "    if len(s) % 2 != 0:\n",
    "        is_balanced = False\n",
    "        return is_balanced\n",
    "    while index < len(s) and is_balanced:\n",
    "        paren = s[index]\n",
    "        print(paren)\n",
    "        if paren in \"([{\":\n",
    "            stack.push(paren)\n",
    "        else:\n",
    "            if stack.is_empty():\n",
    "                is_balanced = False\n",
    "            else:\n",
    "                top = stack.pop()\n",
    "                print(\"top = \" + top)\n",
    "                print(\"paren = \" + paren)\n",
    "                if not is_match(top, paren):\n",
    "                    is_balanced = False\n",
    "        index += 1\n",
    "        print(\"index = \" + str(index))\n",
    "\n",
    "    if stack.is_empty() and is_balanced:\n",
    "        return True\n",
    "    else:\n",
    "        return False\n",
    "\n",
    "print(balance_check(\"{[}]\"))\n",
    "print(balance_check(\"{([])}\"))\n",
    "# seems to always return True "
   ]
  },
  {
   "cell_type": "code",
   "execution_count": 2,
   "id": "a22997d6",
   "metadata": {},
   "outputs": [],
   "source": [
    "class Queue2Stacks:\n",
    "    def __init__(self):\n",
    "        self.in_stack = []\n",
    "        self.out_stack = []\n",
    "        \n",
    "    def enqueue(self, item):\n",
    "        self.in_stack.append(item)\n",
    "        \n",
    "    def dequeue(self):\n",
    "        if not self.out_stack:\n",
    "            while self.in_stack:\n",
    "                item = self.in_stack.pop()\n",
    "                self.out_stack.append(item)\n",
    "        return self.out_stack.pop()\n",
    "\n",
    "def test_queue2stacks():\n",
    "    queue = Queue2Stacks()\n",
    "    for i in range(5):\n",
    "        queue.enqueue(i)\n",
    "    for i in range(5):\n",
    "        assert queue.dequeue() == i\n",
    "        \n",
    "    print(\"TOK\")"
   ]
  },
  {
   "cell_type": "code",
   "execution_count": 3,
   "id": "20f0f6ff",
   "metadata": {},
   "outputs": [
    {
     "name": "stdout",
     "output_type": "stream",
     "text": [
      "TOK\n"
     ]
    }
   ],
   "source": [
    "test_queue2stacks()"
   ]
  },
  {
   "cell_type": "code",
   "execution_count": null,
   "id": "6729289c",
   "metadata": {},
   "outputs": [],
   "source": []
  }
 ],
 "metadata": {
  "kernelspec": {
   "display_name": "Python 3 (ipykernel)",
   "language": "python",
   "name": "python3"
  },
  "language_info": {
   "codemirror_mode": {
    "name": "ipython",
    "version": 3
   },
   "file_extension": ".py",
   "mimetype": "text/x-python",
   "name": "python",
   "nbconvert_exporter": "python",
   "pygments_lexer": "ipython3",
   "version": "3.8.10"
  }
 },
 "nbformat": 4,
 "nbformat_minor": 5
}
