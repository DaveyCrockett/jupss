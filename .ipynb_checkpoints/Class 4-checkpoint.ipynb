{
 "cells": [
  {
   "cell_type": "code",
   "execution_count": 3,
   "id": "4b67b21b",
   "metadata": {},
   "outputs": [],
   "source": [
    "# recursive factorial\n",
    "\n",
    "def fact (n):\n",
    "    if n == 0:\n",
    "        return 1\n",
    "    return n*fact(n-1)"
   ]
  },
  {
   "cell_type": "code",
   "execution_count": 11,
   "id": "960f317e",
   "metadata": {
    "scrolled": true
   },
   "outputs": [],
   "source": [
    "from functools import lru_cache\n",
    "\n",
    "@lru_cache\n",
    "def fib(n):\n",
    "    if n < 2: # base case\n",
    "        return n\n",
    "    return fib(n-1) + fib(n-2)\n"
   ]
  },
  {
   "cell_type": "code",
   "execution_count": 10,
   "id": "55a4890b",
   "metadata": {},
   "outputs": [
    {
     "data": {
      "text/plain": [
       "354224848179261915075"
      ]
     },
     "execution_count": 10,
     "metadata": {},
     "output_type": "execute_result"
    }
   ],
   "source": [
    "fib(100)"
   ]
  },
  {
   "cell_type": "code",
   "execution_count": 14,
   "id": "3b12978b",
   "metadata": {},
   "outputs": [],
   "source": [
    "for i in range(1000, 10000, 500):\n",
    "    fib(i)"
   ]
  },
  {
   "cell_type": "code",
   "execution_count": 15,
   "id": "5cb1aa76",
   "metadata": {},
   "outputs": [
    {
     "name": "stdout",
     "output_type": "stream",
     "text": [
      "33644764876431783266621612005107543310302148460680063906564769974680081442166662368155595513633734025582065332680836159373734790483865268263040892463056431887354544369559827491606602099884183933864652731300088830269235673613135117579297437854413752130520504347701602264758318906527890855154366159582987279682987510631200575428783453215515103870818298969791613127856265033195487140214287532698187962046936097879900350962302291026368131493195275630227837628441540360584402572114334961180023091208287046088923962328835461505776583271252546093591128203925285393434620904245248929403901706233888991085841065183173360437470737908552631764325733993712871937587746897479926305837065742830161637408969178426378624212835258112820516370298089332099905707920064367426202389783111470054074998459250360633560933883831923386783056136435351892133279732908133732642652633989763922723407882928177953580570993691049175470808931841056146322338217465637321248226383092103297701648054726243842374862411453093812206564914032751086643394517512161526545361333111314042436854805106765843493523836959653428071768775328348234345557366719731392746273629108210679280784718035329131176778924659089938635459327894523777674406192240337638674004021330343297496902028328145933418826817683893072003634795623117103101291953169794607632737589253530772552375943788434504067715555779056450443016640119462580972216729758615026968443146952034614932291105970676243268515992834709891284706740862008587135016260312071903172086094081298321581077282076353186624611278245537208532365305775956430072517744315051539600905168603220349163222640885248852433158051534849622434848299380905070483482449327453732624567755879089187190803662058009594743150052402532709746995318770724376825907419939632265984147498193609285223945039707165443156421328157688908058783183404917434556270520223564846495196112460268313970975069382648706613264507665074611512677522748621598642530711298441182622661057163515069260029861704945425047491378115154139941550671256271197133252763631939606902895650288268608362241082050562430701794976171121233066073310059947366875\n"
     ]
    }
   ],
   "source": [
    "print(fib(10000))"
   ]
  },
  {
   "cell_type": "code",
   "execution_count": 8,
   "id": "74f3e6b5",
   "metadata": {},
   "outputs": [],
   "source": [
    "class HashTable:\n",
    "    def __init__(self, size):\n",
    "        self.size = size\n",
    "        self.slots = [None] * self.size\n",
    "        self.data = [None] * self.size\n",
    "    \n",
    "    def put(self, key, data):\n",
    "        hashvalue = self.hashfunction(key, len(self.slots))\n",
    "        if self.slots[hashvalue] == None:\n",
    "            self.slots[hashvalue] = key\n",
    "            self.data[hashvalue] = data\n",
    "        else:\n",
    "            nextslot = self.rehash(hashvalue, len(self.slots))\n",
    "            while self.slots[nextslots] != None and self.slots[nextslot] != key:\n",
    "                nextslot = self.rehash(nextslot, len(self.slots))\n",
    "            if slef.slots[nextslot] == None:\n",
    "                self.slots[nextslot] = key\n",
    "                self.data[nexslot] = data\n",
    "            else:\n",
    "                self.data[nextslot] = data\n",
    "                \n",
    "    def hashfunction(self, key, size):\n",
    "        return key%size\n",
    "    def rehash(self, oldhash, size):\n",
    "        return (oldhash+1)%size\n",
    "    \n",
    "    def get(self, key):\n",
    "        startslot = self.hashfunction(key, len(self.slots))\n",
    "        data = None\n",
    "        stop = False\n",
    "        found = False\n",
    "        position = startslot\n",
    "        while self.slots[position] != None and not found and not stop:\n",
    "            if self.slots[position] == key:\n",
    "                found = True\n",
    "                data = self.data[position]\n",
    "            else:\n",
    "                position = self.rehash(position, len(self.slots))\n",
    "                if postion == startslot:\n",
    "                    stop == True\n",
    "        return data\n",
    "    \n",
    "    def __getitem__(self, key):\n",
    "        return self.get(key)\n",
    "    \n",
    "    def __setitem__(self, key, data):\n",
    "        self.put(key,data)\n",
    "            \n",
    "    def print_table(self):\n",
    "        for i in range(self.size):\n",
    "            print(\" %s -> %s\" % (self.slots, self.data[i]))\n"
   ]
  },
  {
   "cell_type": "code",
   "execution_count": 9,
   "id": "fab0482b",
   "metadata": {
    "scrolled": true
   },
   "outputs": [
    {
     "name": "stdout",
     "output_type": "stream",
     "text": [
      " [None, 1, 2, 3, 4, 5, 6, 7, 8, None, None] -> None\n",
      " [None, 1, 2, 3, 4, 5, 6, 7, 8, None, None] -> 0\n",
      " [None, 1, 2, 3, 4, 5, 6, 7, 8, None, None] -> 1\n",
      " [None, 1, 2, 3, 4, 5, 6, 7, 8, None, None] -> 1\n",
      " [None, 1, 2, 3, 4, 5, 6, 7, 8, None, None] -> 2\n",
      " [None, 1, 2, 3, 4, 5, 6, 7, 8, None, None] -> 5\n",
      " [None, 1, 2, 3, 4, 5, 6, 7, 8, None, None] -> 8\n",
      " [None, 1, 2, 3, 4, 5, 6, 7, 8, None, None] -> 13\n",
      " [None, 1, 2, 3, 4, 5, 6, 7, 8, None, None] -> 21\n",
      " [None, 1, 2, 3, 4, 5, 6, 7, 8, None, None] -> None\n",
      " [None, 1, 2, 3, 4, 5, 6, 7, 8, None, None] -> None\n",
      "None\n"
     ]
    }
   ],
   "source": [
    "ht = HashTable(11)\n",
    "values = [0, 1, 1, 2, 5, 8, 13, 21]\n",
    "def load_hashtable():\n",
    "    for i in range(8):\n",
    "        ht.put(i+1, values[i])\n",
    "\n",
    "load_hashtable()\n",
    "ht.print_table()\n",
    "print(ht.get(10))    "
   ]
  },
  {
   "cell_type": "code",
   "execution_count": 6,
   "id": "c5c0c19e",
   "metadata": {},
   "outputs": [],
   "source": [
    "class Node:\n",
    "    def __init__(self, data):\n",
    "        self.data = data\n",
    "        self.next = None\n",
    "        \n",
    "    "
   ]
  },
  {
   "cell_type": "code",
   "execution_count": 7,
   "id": "b1c683a8",
   "metadata": {},
   "outputs": [
    {
     "name": "stdout",
     "output_type": "stream",
     "text": [
      "10\n",
      "11\n",
      "12\n"
     ]
    }
   ],
   "source": [
    "node1 = Node(10)\n",
    "node2 = Node(11)\n",
    "node3 = Node(12)\n",
    "\n",
    "node1.next = node2\n",
    "node2.next = node3\n",
    "\n",
    "current = node1\n",
    "\n",
    "while current != None:\n",
    "    print(current.data)\n",
    "    current = current.next"
   ]
  },
  {
   "cell_type": "code",
   "execution_count": null,
   "id": "059a7025",
   "metadata": {},
   "outputs": [],
   "source": [
    "class SinglyLinkedList:\n",
    "    def __init__:\n",
    "        self.head = None\n",
    "    \n",
    "    def append(self, value):\n",
    "        current = self.head\n",
    "        if not current:\n",
    "            self.head = Node(value)\n",
    "        else:\n",
    "            while current.next:\n",
    "                current = current.next\n",
    "            current.next = Node(value)\n",
    "            \n",
    "    def prepend(self, value):\n",
    "        current = self.head\n",
    "        if not current:\n",
    "            self.head = Node(value)\n",
    "        else:\n",
    "            new_node = Node(value)\n",
    "            temp_node = self.head\n",
    "            new_node.next = temp_node\n",
    "            self.head = new_node"
   ]
  },
  {
   "cell_type": "code",
   "execution_count": null,
   "id": "ff3e4cf1",
   "metadata": {},
   "outputs": [],
   "source": [
    "# Assignment!\n",
    "\n",
    "class DNode:\n",
    "    def __init__(self, data):\n",
    "        self.data = data\n",
    "        self.next = None\n",
    "        self.prev = None\n",
    "    \n",
    "class DoublyLinedList:\n",
    "    def __init__(self):\n",
    "        self.head = None\n",
    "        \n",
    "    def InsertToEmptyList(self, data):\n",
    "        if self.head is None:\n",
    "            new_node = DNode(data)\n",
    "            self.head = new_node\n",
    "        else:\n",
    "            print(\"Your list is empty.\")\n",
    "            \n",
    "    def InsertToEnd(self, data)\n",
    "        # Check if list is empty\n",
    "        if self.head is None:\n",
    "            new_node = Node(data)\n",
    "            self.head = new_node\n",
    "            return\n",
    "        node = self.head\n",
    "        # Iterate until next is Null\n",
    "        while node.next is not None:\n",
    "            node = node.next\n",
    "        new_node = Node(data)\n",
    "        node.next = new_node\n",
    "        new_node.prev = node"
   ]
  }
 ],
 "metadata": {
  "kernelspec": {
   "display_name": "Python 3 (ipykernel)",
   "language": "python",
   "name": "python3"
  },
  "language_info": {
   "codemirror_mode": {
    "name": "ipython",
    "version": 3
   },
   "file_extension": ".py",
   "mimetype": "text/x-python",
   "name": "python",
   "nbconvert_exporter": "python",
   "pygments_lexer": "ipython3",
   "version": "3.8.10"
  }
 },
 "nbformat": 4,
 "nbformat_minor": 5
}
